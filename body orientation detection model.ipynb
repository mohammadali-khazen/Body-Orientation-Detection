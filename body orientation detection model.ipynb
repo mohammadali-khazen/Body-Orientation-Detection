{
 "cells": [
  {
   "cell_type": "code",
   "execution_count": 1,
   "metadata": {},
   "outputs": [
    {
     "name": "stdout",
     "output_type": "stream",
     "text": [
      "pygame 2.0.1 (SDL 2.0.14, Python 3.8.5)\n",
      "Hello from the pygame community. https://www.pygame.org/contribute.html\n"
     ]
    }
   ],
   "source": [
    "import numpy as np\n",
    "import pandas as pd\n",
    "import seaborn as sns\n",
    "pd.set_option('max_colwidth', 20000000)\n",
    "from sklearn import metrics\n",
    "import math\n",
    "import pygame\n",
    "\n",
    "import pandas as pd\n",
    "import numpy as np\n",
    "import matplotlib.pyplot as plt\n",
    "from sklearn.model_selection import train_test_split\n",
    "from sklearn.preprocessing import StandardScaler, LabelEncoder\n",
    "import pickle"
   ]
  },
  {
   "cell_type": "code",
   "execution_count": 2,
   "metadata": {},
   "outputs": [],
   "source": [
    "df1=pd.read_excel(r\"G:\\Localization\\211015\\211015.xlsx\")\n",
    "df2=pd.read_excel(r'G:\\Localization\\211016\\211016.xlsx')\n",
    "df3=pd.read_excel(r'G:\\Localization\\211017\\211017.xlsx')\n",
    "df4=pd.read_excel(r'G:\\Localization\\211023\\211023.xlsx')\n",
    "df5=pd.read_excel(r'G:\\Localization\\211024\\211024.xlsx')\n",
    "df6=pd.read_excel(r'G:\\Localization\\211026\\211026.xlsx')\n",
    "df7=pd.read_excel(r'G:\\Localization\\211027\\211027.xlsx')\n",
    "df8=pd.read_excel(r'G:\\Localization\\211028\\211028.xlsx')\n",
    "\n",
    "df=pd.concat([df1,df2,df3,df4,df5,df6,df7,df8],axis=0)\n",
    "df=df.sort_values(by=['timestamp'])\n",
    "df=df.drop_duplicates(subset=['timestamp'])"
   ]
  },
  {
   "cell_type": "markdown",
   "metadata": {},
   "source": [
    "### The Puck ID should be chosen."
   ]
  },
  {
   "cell_type": "code",
   "execution_count": 3,
   "metadata": {},
   "outputs": [],
   "source": [
    "df=df[df['instanceId']=='0000a7c0']"
   ]
  },
  {
   "cell_type": "code",
   "execution_count": 4,
   "metadata": {},
   "outputs": [],
   "source": [
    "alk=pd.DataFrame(df['timestamp'].apply(lambda x: x.replace('@','')))\n",
    "df['timestamp']=pd.DataFrame(pd.to_datetime(alk['timestamp'], infer_datetime_format=True))\n",
    "df['diff_seconds'] = pd.DataFrame(df['timestamp'].diff(1))['timestamp'].dt.total_seconds()"
   ]
  },
  {
   "cell_type": "code",
   "execution_count": 5,
   "metadata": {},
   "outputs": [],
   "source": [
    "df=df[(df['diff_seconds']<=5)].sort_values('timestamp').reset_index().drop('index',axis=1)"
   ]
  },
  {
   "cell_type": "code",
   "execution_count": 6,
   "metadata": {},
   "outputs": [],
   "source": [
    "a1=df['acceleration'].str.split(\",\", n = 2, expand = True).rename({0:'acc_x',1:'acc_y',2:'acc_z'},axis=1)[['acc_x','acc_y','acc_z']]\n",
    "acc=pd.concat([a1,df],axis=1)\n",
    "\n",
    "acc['acc_x']=acc['acc_x'].str.replace(\"[\", '').str.replace(\"'\", '').str.replace(\"'\", '').apply(lambda x: pd.to_numeric(x, errors = 'coerce')).astype(float)\n",
    "acc['acc_y']=acc['acc_y'].str.replace(\"'\", '').str.replace(\"'\", '').apply(lambda x: pd.to_numeric(x, errors = 'coerce')).astype(float)\n",
    "acc['acc_z']=acc['acc_z'].str.replace(\"]\", '').str.replace(\"'\", '').apply(lambda x: pd.to_numeric(x, errors = 'coerce')).astype(float)"
   ]
  },
  {
   "cell_type": "code",
   "execution_count": 7,
   "metadata": {},
   "outputs": [],
   "source": [
    "acc = acc[['timestamp','acc_x','acc_y','acc_z']]"
   ]
  },
  {
   "cell_type": "code",
   "execution_count": 8,
   "metadata": {},
   "outputs": [],
   "source": [
    "\"\"\"\n",
    "Three instances and their corresponding rssi values are defined.Also, a column for the Puck is added.\n",
    "\"\"\"\n",
    "\n",
    "instance_1=df['nearest'].str.slice(16,24,1)\n",
    "instance_2=df['nearest'].str.slice(53,61,1)\n",
    "instance_3=df['nearest'].str.slice(90,98,1)\n",
    "rssi_1=df['nearest'].str.slice(33,36,1)\n",
    "rssi_2=df['nearest'].str.slice(70,73,1)\n",
    "rssi_3=df['nearest'].str.slice(107,110,1)\n",
    "Puck=df['instanceId']\n",
    "\n",
    "Processed_dataset=pd.DataFrame(df['timestamp'])\n",
    "Processed_dataset['instance_1']=instance_1\n",
    "Processed_dataset['instance_2']=instance_2\n",
    "Processed_dataset['instance_3']=instance_3\n",
    "Processed_dataset['rssi_1']=rssi_1\n",
    "Processed_dataset['rssi_2']=rssi_2\n",
    "Processed_dataset['rssi_3']=rssi_3\n",
    "Processed_dataset['rssi_3']=rssi_3\n",
    "Processed_dataset['Puck']=Puck\n",
    "\n",
    "\n",
    "#Processed_dataset=Processed_dataset.set_index('timestamp')"
   ]
  },
  {
   "cell_type": "code",
   "execution_count": 9,
   "metadata": {},
   "outputs": [],
   "source": [
    "Processed_dataset=Processed_dataset.reset_index(drop=True)"
   ]
  },
  {
   "cell_type": "code",
   "execution_count": 10,
   "metadata": {},
   "outputs": [],
   "source": [
    "Processed_dataset=Processed_dataset[Processed_dataset!='']"
   ]
  },
  {
   "cell_type": "code",
   "execution_count": 11,
   "metadata": {},
   "outputs": [],
   "source": [
    "Processed_dataset.dropna(inplace=True)"
   ]
  },
  {
   "cell_type": "code",
   "execution_count": 12,
   "metadata": {},
   "outputs": [],
   "source": [
    "Processed_dataset=Processed_dataset.reset_index(drop=True)"
   ]
  },
  {
   "cell_type": "code",
   "execution_count": 13,
   "metadata": {},
   "outputs": [],
   "source": [
    "\"\"\"\n",
    "In order for the rssi columns to be ML model readable, we need to remove string records from them. Beacause rarely the dataset\n",
    "coming from the Kibana has couple of string values.\n",
    "\n",
    "The missing records should be removed.\n",
    "\n",
    "Since by applying str.extract function, the negetaavie sign of rssi were removed, we should multiply them by -1.\n",
    "\"\"\"\n",
    "\n",
    "Processed_dataset['rssi_1']=pd.DataFrame(Processed_dataset['rssi_1'])['rssi_1'].str.extract(r'(\\d+)', expand=False)\n",
    "Processed_dataset['rssi_2']=pd.DataFrame(Processed_dataset['rssi_2'])['rssi_2'].str.extract(r'(\\d+)', expand=False)\n",
    "Processed_dataset['rssi_3']=pd.DataFrame(Processed_dataset['rssi_3'])['rssi_3'].str.extract(r'(\\d+)', expand=False)\n",
    "\n",
    "Processed_dataset.dropna(inplace=True)\n",
    "\n",
    "Processed_dataset['rssi_1']=Processed_dataset['rssi_1'].astype(int)\n",
    "Processed_dataset['rssi_2']=Processed_dataset['rssi_2'].astype(int)\n",
    "Processed_dataset['rssi_3']=Processed_dataset['rssi_3'].astype(int)\n"
   ]
  },
  {
   "cell_type": "code",
   "execution_count": 14,
   "metadata": {},
   "outputs": [],
   "source": [
    "Processed_dataset['rssi_1']=Processed_dataset['rssi_1']*-1\n",
    "Processed_dataset['rssi_2']=Processed_dataset['rssi_2']*-1\n",
    "Processed_dataset['rssi_3']=Processed_dataset['rssi_3']*-1"
   ]
  },
  {
   "cell_type": "code",
   "execution_count": 15,
   "metadata": {},
   "outputs": [],
   "source": [
    "Processed_dataset[\"X1\"]=Processed_dataset[\"instance_1\"]\n",
    "Processed_dataset[\"X2\"]=Processed_dataset[\"instance_2\"]\n",
    "Processed_dataset[\"X3\"]=Processed_dataset[\"instance_3\"]"
   ]
  },
  {
   "cell_type": "code",
   "execution_count": 16,
   "metadata": {},
   "outputs": [],
   "source": [
    "Processed_dataset.rename(columns={\"instance_1\":\"Y1\"},inplace=True)\n",
    "Processed_dataset.rename(columns={\"instance_2\":\"Y2\"},inplace=True)\n",
    "Processed_dataset.rename(columns={\"instance_3\":\"Y3\"},inplace=True)"
   ]
  },
  {
   "cell_type": "code",
   "execution_count": 17,
   "metadata": {},
   "outputs": [],
   "source": [
    "x_axis={'0000004d':0,'00000058':4,'00000060':8,'0000004e':8,'00000061':4,'00000059':0,'000000a9':0,'000000ae':4,'000000af':8}\n",
    "y_axis={'0000004d':0,'00000058':4,'00000060':0,'0000004e':4,'00000061':4,'00000059':4,'000000a9':8,'000000ae':8,'000000af':8}"
   ]
  },
  {
   "cell_type": "code",
   "execution_count": 18,
   "metadata": {},
   "outputs": [],
   "source": [
    "Processed_dataset[\"X1\"]=pd.DataFrame(Processed_dataset[\"Y1\"].replace(x_axis))\n",
    "Processed_dataset[\"X2\"]=pd.DataFrame(Processed_dataset[\"Y2\"].replace(x_axis))\n",
    "Processed_dataset[\"X3\"]=pd.DataFrame(Processed_dataset[\"Y3\"].replace(x_axis))\n",
    "\n",
    "Processed_dataset[\"Y1\"]=pd.DataFrame(Processed_dataset[\"Y1\"].replace(y_axis))\n",
    "Processed_dataset[\"Y2\"]=pd.DataFrame(Processed_dataset[\"Y2\"].replace(y_axis))\n",
    "Processed_dataset[\"Y3\"]=pd.DataFrame(Processed_dataset[\"Y3\"].replace(y_axis))"
   ]
  },
  {
   "cell_type": "code",
   "execution_count": 19,
   "metadata": {},
   "outputs": [],
   "source": [
    "df=Processed_dataset"
   ]
  },
  {
   "cell_type": "code",
   "execution_count": 20,
   "metadata": {},
   "outputs": [],
   "source": [
    "# Converting string values of coordiantes of the transmitters to float\n",
    "df[['Y1', 'Y2', 'Y3','X1', 'X2', 'X3']]=df[['Y1', 'Y2', 'Y3','X1', 'X2', 'X3']].apply(lambda x: pd.to_numeric(x, errors = 'coerce')).dropna()"
   ]
  },
  {
   "cell_type": "code",
   "execution_count": 21,
   "metadata": {},
   "outputs": [],
   "source": [
    "# reorder by column name\n",
    "df2 = df.reindex([\"timestamp\",\"X1\",\"Y1\",\"X2\", \"Y2\",\"X3\",\"Y3\",\"rssi_1\",\"rssi_2\",\"rssi_3\",\"Puck\"], axis=1)\n",
    "df2=df2.sort_values(by=['timestamp'])"
   ]
  },
  {
   "cell_type": "markdown",
   "metadata": {},
   "source": [
    "### Importing location dataset and applying Fuzzy matching"
   ]
  },
  {
   "cell_type": "code",
   "execution_count": 22,
   "metadata": {},
   "outputs": [],
   "source": [
    "# Correcting the timestamp format\n",
    "df1=pd.read_excel(r\"G:\\Localization\\211015\\all-location.xlsx\")\n",
    "df12=pd.read_excel(r\"G:\\Localization\\211016\\all-location.xlsx\")\n",
    "df13=pd.read_excel(r\"G:\\Localization\\211017\\all-location.xlsx\")\n",
    "df14=pd.read_excel(r\"G:\\Localization\\211023\\all-location.xlsx\")\n",
    "df15=pd.read_excel(r\"G:\\Localization\\211024\\all-location.xlsx\")\n",
    "df16=pd.read_excel(r\"G:\\Localization\\211026\\all-location.xlsx\")\n",
    "df17=pd.read_excel(r\"G:\\Localization\\211027\\all-location.xlsx\")\n",
    "df18=pd.read_excel(r\"G:\\Localization\\211028\\all-location.xlsx\")\n",
    "\n",
    "df1=pd.concat([df1,df12,df13,df14,df15,df16,df17,df18],axis=0)\n",
    "df1=df1.sort_values(by=['timestamp'])\n",
    "df1=df1.drop_duplicates(subset=['timestamp'])\n",
    "\n",
    "# Correcting the timestamp format\n",
    "alk=pd.DataFrame(df1['timestamp'].apply(lambda x: x.replace('@','')))\n",
    "df1['timestamp']=pd.DataFrame(pd.to_datetime(alk['timestamp'], infer_datetime_format=True))\n",
    "\n",
    "df1['diff_seconds'] = pd.DataFrame(df1['timestamp'].diff(1))['timestamp'].dt.total_seconds()\n",
    "df1=df1[(df1['diff_seconds']<=5)].sort_values('timestamp').reset_index().drop('index',axis=1)\n",
    "\n",
    "#Fuzzy Matching\n",
    "fuzzy_matched = pd.merge_asof(df1, df2, left_on='timestamp',right_on='timestamp', direction='nearest')"
   ]
  },
  {
   "cell_type": "markdown",
   "metadata": {},
   "source": [
    "#### Calculating the angle between the TARGET and First Transmitter"
   ]
  },
  {
   "cell_type": "code",
   "execution_count": 23,
   "metadata": {},
   "outputs": [],
   "source": [
    "def angle_of_vector(x, y):\n",
    "    return pygame.math.Vector2(x, y).angle_to((1, 0))\n",
    "\n",
    "def angle_of_line(x):\n",
    "    return angle_of_vector(x['X1']-x['location_X'], x['Y1']-x['location_Y'])\n",
    "fuzzy_matched['angle_1'] = fuzzy_matched.apply(lambda x:angle_of_line(x), axis=1)"
   ]
  },
  {
   "cell_type": "markdown",
   "metadata": {},
   "source": [
    "#### Correcting the angles"
   ]
  },
  {
   "cell_type": "code",
   "execution_count": 24,
   "metadata": {},
   "outputs": [],
   "source": [
    "def angle_correction(x):\n",
    "    if x['angle_1'] == 0:\n",
    "        return x\n",
    "    elif 0>x['angle_1']>=-180:\n",
    "        return -1 * x['angle_1']\n",
    "    elif 0<x['angle_1']<180:\n",
    "        return 360 - x['angle_1']\n",
    "fuzzy_matched['angle_1'] = fuzzy_matched.apply(lambda x:angle_correction(x), axis=1)"
   ]
  },
  {
   "cell_type": "markdown",
   "metadata": {},
   "source": [
    "#### Calculating the angle between the TARGET and Second Transmitter"
   ]
  },
  {
   "cell_type": "code",
   "execution_count": 25,
   "metadata": {},
   "outputs": [],
   "source": [
    "def angle_of_vector(x, y):\n",
    "    return pygame.math.Vector2(x, y).angle_to((1, 0))\n",
    "\n",
    "def angle_of_line(x):\n",
    "    return angle_of_vector(x['X2']-x['location_X'], x['Y2']-x['location_Y'])\n",
    "fuzzy_matched['angle_2'] = fuzzy_matched.apply(lambda x:angle_of_line(x), axis=1)"
   ]
  },
  {
   "cell_type": "markdown",
   "metadata": {},
   "source": [
    "#### Correcting the angles"
   ]
  },
  {
   "cell_type": "code",
   "execution_count": 26,
   "metadata": {},
   "outputs": [],
   "source": [
    "def angle_correction(x):\n",
    "    if x['angle_2'] == 0:\n",
    "        return x\n",
    "    elif 0>x['angle_2']>=-180:\n",
    "        return -1 * x['angle_2']\n",
    "    elif 0<x['angle_2']<180:\n",
    "        return 360 - x['angle_2']\n",
    "fuzzy_matched['angle_2'] = fuzzy_matched.apply(lambda x:angle_correction(x), axis=1)"
   ]
  },
  {
   "cell_type": "markdown",
   "metadata": {},
   "source": [
    "#### Calculating the angle between the TARGET and Third Transmitter"
   ]
  },
  {
   "cell_type": "code",
   "execution_count": 27,
   "metadata": {},
   "outputs": [],
   "source": [
    "def angle_of_vector(x, y):\n",
    "    return pygame.math.Vector2(x, y).angle_to((1, 0))\n",
    "\n",
    "def angle_of_line(x):\n",
    "    return angle_of_vector(x['X3']-x['location_X'], x['Y3']-x['location_Y'])\n",
    "fuzzy_matched['angle_3'] = fuzzy_matched.apply(lambda x:angle_of_line(x), axis=1)"
   ]
  },
  {
   "cell_type": "markdown",
   "metadata": {},
   "source": [
    "#### Correcting the angles"
   ]
  },
  {
   "cell_type": "code",
   "execution_count": 28,
   "metadata": {},
   "outputs": [],
   "source": [
    "def angle_correction(x):\n",
    "    if x['angle_3'] == 0:\n",
    "        return x\n",
    "    elif 0>x['angle_3']>=-180:\n",
    "        return -1 * x['angle_3']\n",
    "    elif 0<x['angle_3']<180:\n",
    "        return 360 - x['angle_3']\n",
    "fuzzy_matched['angle_3'] = fuzzy_matched.apply(lambda x:angle_correction(x), axis=1)"
   ]
  },
  {
   "cell_type": "markdown",
   "metadata": {},
   "source": [
    "### Performing feature engineering process"
   ]
  },
  {
   "cell_type": "code",
   "execution_count": 29,
   "metadata": {},
   "outputs": [],
   "source": [
    "def boundries(x):  \n",
    "        \n",
    "    Xmin=min(x['X1'],x['X2'],x['X3'])\n",
    "    Xmax=max(x['X1'],x['X2'],x['X3'])\n",
    "    Ymin=min(x['Y1'],x['Y2'],x['Y3'])\n",
    "    Ymax=max(x['Y1'],x['Y2'],x['Y3'])\n",
    "    \n",
    "    if (Xmin<=x['location_X']<=Xmax)&(Ymin<=x['location_Y']<=Ymax):\n",
    "        x['check']=1\n",
    "             \n",
    "    else:\n",
    "             \n",
    "       x['check']=0\n",
    "             \n",
    "    return x    \n",
    "             \n",
    "fuzzy_matched = fuzzy_matched.apply(lambda x:boundries(x), axis=1)"
   ]
  },
  {
   "cell_type": "markdown",
   "metadata": {},
   "source": [
    "### Pre-processing the Dataset "
   ]
  },
  {
   "cell_type": "code",
   "execution_count": 30,
   "metadata": {},
   "outputs": [],
   "source": [
    "final = fuzzy_matched.drop(['diff_seconds','Puck'],axis=1)"
   ]
  },
  {
   "cell_type": "code",
   "execution_count": 31,
   "metadata": {},
   "outputs": [],
   "source": [
    "def boundries(x):  \n",
    "    \n",
    "    x['dis1'] = np.sqrt(((x['location_X']-x['X1'])**2) + ((x['location_Y']-x['Y1'])**2))\n",
    "    x['dis2'] = np.sqrt(((x['location_X']-x['X2'])**2) + ((x['location_Y']-x['Y2'])**2))\n",
    "    x['dis3'] = np.sqrt(((x['location_X']-x['X3'])**2) + ((x['location_Y']-x['Y3'])**2))\n",
    "    return x\n",
    "\n",
    "        \n",
    "\n",
    "final = final.apply(lambda x:boundries(x), axis=1)"
   ]
  },
  {
   "cell_type": "code",
   "execution_count": 32,
   "metadata": {},
   "outputs": [],
   "source": [
    "def boundries(x):  \n",
    "    \n",
    "    x['dis1_1'] = np.sqrt(((x['X2']-x['X1'])**2) + ((x['Y2']-x['Y1'])**2))\n",
    "    x['dis2_1'] = np.sqrt(((x['X3']-x['X2'])**2) + ((x['Y3']-x['Y2'])**2))\n",
    "    x['dis3_1'] = np.sqrt(((x['X1']-x['X3'])**2) + ((x['Y1']-x['Y3'])**2))\n",
    "    return x\n",
    "\n",
    "        \n",
    "\n",
    "final = final.apply(lambda x:boundries(x), axis=1)"
   ]
  },
  {
   "cell_type": "code",
   "execution_count": 33,
   "metadata": {},
   "outputs": [],
   "source": [
    "# Putting labels\n",
    "\n",
    "# Creating Orientation attribute\n",
    "final['or']=np.nan\n",
    "\n",
    "# # # #Experiment1\n",
    "final.loc[('2021-10-15 08:55:45'<=final['timestamp'])&(final['timestamp']<='2021-10-15 09:11:23'),'or']='right'\n",
    "final.loc[('2021-10-15 08:37:20'<=final['timestamp'])&(final['timestamp']<='2021-10-15 08:55:05'),'or']='down_right'\n",
    "final.loc[('2021-10-14 17:40:00'<=final['timestamp'])&(final['timestamp']<='2021-10-14 17:54:54'),'or']='down'\n",
    "final.loc[('2021-10-14 17:14:25'<=final['timestamp'])&(final['timestamp']<='2021-10-14 17:31:22'),'or']='down_left'\n",
    "final.loc[('2021-10-14 16:42:04'<=final['timestamp'])&(final['timestamp']<='2021-10-14 17:00:54'),'or']='left'\n",
    "final.loc[('2021-10-14 16:13:20'<=final['timestamp'])&(final['timestamp']<='2021-10-14 16:31:28'),'or']='up_left'\n",
    "final.loc[('2021-10-14 15:56:25'<=final['timestamp'])&(final['timestamp']<='2021-10-14 16:11:38'),'or']='up'\n",
    "final.loc[('2021-10-15 18:16:30'<=final['timestamp'])&(final['timestamp']<='2021-10-15 18:33:40'),'or']='up_right'\n",
    "\n",
    "\n",
    "# # # #Experiment2\n",
    "# final.loc[('2021-10-16 16:30:30'<=final['timestamp'])&(final['timestamp']<='2021-10-16 16:54:00'),'or']='right'\n",
    "# final.loc[('2021-10-16 16:54:50'<=final['timestamp'])&(final['timestamp']<='2021-10-16 17:09:19'),'or']='down_right'\n",
    "# final.loc[('2021-10-16 15:41:20'<=final['timestamp'])&(final['timestamp']<='2021-10-16 16:02:40'),'or']='down'\n",
    "# final.loc[('2021-10-16 17:10:15'<=final['timestamp'])&(final['timestamp']<='2021-10-16 17:26:20'),'or']='down_left'\n",
    "# final.loc[('2021-10-16 17:27:20'<=final['timestamp'])&(final['timestamp']<='2021-10-16 17:32:22'),'or']='down_left'\n",
    "# final.loc[('2021-10-16 15:26:50'<=final['timestamp'])&(final['timestamp']<='2021-10-16 15:40:32'),'or']='left'\n",
    "# final.loc[('2021-10-16 18:53:20'<=final['timestamp'])&(final['timestamp']<='2021-10-16 19:08:55'),'or']='up_left'\n",
    "# final.loc[('2021-10-16 18:36:20'<=final['timestamp'])&(final['timestamp']<='2021-10-16 18:52:37'),'or']='up'\n",
    "# final.loc[('2021-10-16 18:17:59'<=final['timestamp'])&(final['timestamp']<='2021-10-16 18:35:23'),'or']='up_right'\n",
    "\n",
    "\n",
    "# # # #Experiment3\n",
    "# final.loc[('2021-10-17 11:39:59'<=final['timestamp'])&(final['timestamp']<='2021-10-17 11:57:00'),'or']='right'\n",
    "# final.loc[('2021-10-17 15:34:30'<=final['timestamp'])&(final['timestamp']<='2021-10-17 15:51:40'),'or']='down_right'\n",
    "# final.loc[('2021-10-17 15:11:15'<=final['timestamp'])&(final['timestamp']<='2021-10-17 15:31:45'),'or']='down'\n",
    "# final.loc[('2021-10-17 14:11:04'<=final['timestamp'])&(final['timestamp']<='2021-10-17 14:26:00'),'or']='down_left'\n",
    "# final.loc[('2021-10-17 14:26:40'<=final['timestamp'])&(final['timestamp']<='2021-10-17 14:31:55'),'or']='down_left'\n",
    "# final.loc[('2021-10-17 13:53:25'<=final['timestamp'])&(final['timestamp']<='2021-10-17 14:09:18'),'or']='left'\n",
    "# final.loc[('2021-10-17 13:36:40'<=final['timestamp'])&(final['timestamp']<='2021-10-17 13:51:15'),'or']='up_left'\n",
    "# final.loc[('2021-10-17 13:18:50'<=final['timestamp'])&(final['timestamp']<='2021-10-17 13:34:55'),'or']='up'\n",
    "# final.loc[('2021-10-17 11:59:04'<=final['timestamp'])&(final['timestamp']<='2021-10-17 12:13:33'),'or']='up_right'\n",
    "\n",
    "#Experiment4\n",
    "final.loc[('2021-10-23 09:40:20'<=final['timestamp'])&(final['timestamp']<='2021-10-23 09:56:25'),'or']='right'\n",
    "final.loc[('2021-10-23 12:37:59'<=final['timestamp'])&(final['timestamp']<='2021-10-23 12:54:15'),'or']='down_right'\n",
    "final.loc[('2021-10-23 12:17:35'<=final['timestamp'])&(final['timestamp']<='2021-10-23 12:36:40'),'or']='down'\n",
    "final.loc[('2021-10-23 11:52:15'<=final['timestamp'])&(final['timestamp']<='2021-10-23 12:07:05'),'or']='down_left'\n",
    "final.loc[('2021-10-23 11:32:55'<=final['timestamp'])&(final['timestamp']<='2021-10-23 11:51:25'),'or']='left'\n",
    "final.loc[('2021-10-23 10:49:35'<=final['timestamp'])&(final['timestamp']<='2021-10-23 11:06:25'),'or']='up_left'\n",
    "final.loc[('2021-10-23 10:19:20'<=final['timestamp'])&(final['timestamp']<='2021-10-23 10:35:45'),'or']='up'\n",
    "final.loc[('2021-10-23 09:57:25'<=final['timestamp'])&(final['timestamp']<='2021-10-23 10:14:45'),'or']='up_right'\n",
    "\n",
    "# #Experiment5\n",
    "#final.loc[('2021-10-24 19:23:40'<=final['timestamp'])&(final['timestamp']<='2021-10-24 19:32:55'),'or']='right'\n",
    "# final.loc[('2021-10-24 20:53:45'<=final['timestamp'])&(final['timestamp']<='2021-10-24 21:03:35'),'or']='down_right'\n",
    "# final.loc[('2021-10-24 20:42:50'<=final['timestamp'])&(final['timestamp']<='2021-10-24 20:52:40'),'or']='down'\n",
    "# final.loc[('2021-10-24 20:29:04'<=final['timestamp'])&(final['timestamp']<='2021-10-24 20:39:05'),'or']='down_left'\n",
    "# final.loc[('2021-10-24 20:16:35'<=final['timestamp'])&(final['timestamp']<='2021-10-24 20:26:00'),'or']='left'\n",
    "# final.loc[('2021-10-24 20:05:30'<=final['timestamp'])&(final['timestamp']<='2021-10-24 20:15:15'),'or']='up_left'\n",
    "# final.loc[('2021-10-24 19:53:45'<=final['timestamp'])&(final['timestamp']<='2021-10-24 20:04:10'),'or']='up'\n",
    "# final.loc[('2021-10-24 19:34:55'<=final['timestamp'])&(final['timestamp']<='2021-10-24 19:44:35'),'or']='up_right'\n",
    "\n",
    "#Experiment6\n",
    "final.loc[('2021-10-26 08:33:04'<=final['timestamp'])&(final['timestamp']<='2021-10-26 08:49:05'),'or']='right'\n",
    "final.loc[('2021-10-26 10:50:45'<=final['timestamp'])&(final['timestamp']<='2021-10-26 11:07:05'),'or']='down_right'\n",
    "final.loc[('2021-10-26 10:33:25'<=final['timestamp'])&(final['timestamp']<='2021-10-26 10:48:45'),'or']='down'\n",
    "final.loc[('2021-10-26 10:16:05'<=final['timestamp'])&(final['timestamp']<='2021-10-26 10:31:55'),'or']='down_left'\n",
    "final.loc[('2021-10-26 09:59:30'<=final['timestamp'])&(final['timestamp']<='2021-10-26 10:15:10'),'or']='left'\n",
    "final.loc[('2021-10-26 09:30:30'<=final['timestamp'])&(final['timestamp']<='2021-10-26 09:47:10'),'or']='up_left'\n",
    "final.loc[('2021-10-26 09:08:03'<=final['timestamp'])&(final['timestamp']<='2021-10-26 09:23:25'),'or']='up'\n",
    "final.loc[('2021-10-26 08:50:20'<=final['timestamp'])&(final['timestamp']<='2021-10-26 09:07:05'),'or']='up_right'\n",
    "\n",
    "final.loc[('2021-10-27 18:45:45'<=final['timestamp'])&(final['timestamp']<='2021-10-27 18:56:00'),'or']='right'\n",
    "final.loc[('2021-10-27 20:23:10'<=final['timestamp'])&(final['timestamp']<='2021-10-27 20:33:10'),'or']='down_right'\n",
    "final.loc[('2021-10-27 20:10:45'<=final['timestamp'])&(final['timestamp']<='2021-10-27 20:22:25'),'or']='down'\n",
    "final.loc[('2021-10-27 19:59:20'<=final['timestamp'])&(final['timestamp']<='2021-10-27 20:09:33'),'or']='down_left'\n",
    "final.loc[('2021-10-27 19:48:25'<=final['timestamp'])&(final['timestamp']<='2021-10-27 19:58:33'),'or']='left'\n",
    "final.loc[('2021-10-27 19:20:45'<=final['timestamp'])&(final['timestamp']<='2021-10-27 19:31:25'),'or']='up_left'\n",
    "final.loc[('2021-10-27 19:09:35'<=final['timestamp'])&(final['timestamp']<='2021-10-27 19:19:35'),'or']='up'\n",
    "final.loc[('2021-10-27 18:56:50'<=final['timestamp'])&(final['timestamp']<='2021-10-27 19:06:55'),'or']='up_right'\n",
    "\n",
    "final.loc[('2021-10-28 10:22:50'<=final['timestamp'])&(final['timestamp']<='2021-10-28 10:28:35'),'or']='right'\n",
    "final.loc[('2021-10-28 11:11:05'<=final['timestamp'])&(final['timestamp']<='2021-10-28 11:17:05'),'or']='down_right'\n",
    "final.loc[('2021-10-28 11:04:05'<=final['timestamp'])&(final['timestamp']<='2021-10-28 11:10:05'),'or']='down'\n",
    "final.loc[('2021-10-28 10:56:25'<=final['timestamp'])&(final['timestamp']<='2021-10-28 11:03:15'),'or']='down_left'\n",
    "final.loc[('2021-10-28 10:49:50'<=final['timestamp'])&(final['timestamp']<='2021-10-28 10:55:05'),'or']='left'\n",
    "final.loc[('2021-10-28 10:43:05'<=final['timestamp'])&(final['timestamp']<='2021-10-28 10:48:55'),'or']='up_left'\n",
    "final.loc[('2021-10-28 10:36:15'<=final['timestamp'])&(final['timestamp']<='2021-10-28 10:42:15'),'or']='up'\n",
    "final.loc[('2021-10-28 10:29:30'<=final['timestamp'])&(final['timestamp']<='2021-10-28 10:35:25'),'or']='up_right'\n"
   ]
  },
  {
   "cell_type": "code",
   "execution_count": 34,
   "metadata": {},
   "outputs": [],
   "source": [
    "final = final.dropna()\n",
    "from sklearn.utils import shuffle\n",
    "final = shuffle(final)"
   ]
  },
  {
   "cell_type": "code",
   "execution_count": 35,
   "metadata": {},
   "outputs": [],
   "source": [
    "left = final[final['or']=='left'].head(1917).copy()\n",
    "right = final[final['or']=='right'].head(1917).copy()\n",
    "up_left = final[final['or']=='up_left'].head(1917).copy()\n",
    "up_right = final[final['or']=='up_right'].head(1917).copy()\n",
    "down_left = final[final['or']=='down_left'].head(1917).copy()\n",
    "down = final[final['or']=='down'].head(1917).copy()\n",
    "up = final[final['or']=='up'].head(1917).copy()\n",
    "down_right = final[final['or']=='down_right'].head(1917).copy()"
   ]
  },
  {
   "cell_type": "code",
   "execution_count": 36,
   "metadata": {},
   "outputs": [],
   "source": [
    "final_dataset = pd.DataFrame()\n",
    "final_dataset = final_dataset.append([left, right, up_left,up_right,down_left,down,up,down_right])\n",
    "\n",
    "\n",
    "#final_dataset = final_dataset[['rssi_1', 'rssi_2', 'rssi_3', 'angle_1', 'angle_2','angle_3','or']]\n",
    "final_dataset = final_dataset.rename({'or':'label'},axis=1)"
   ]
  },
  {
   "cell_type": "code",
   "execution_count": 37,
   "metadata": {},
   "outputs": [],
   "source": [
    "final_dataset=final_dataset.dropna().sort_values('timestamp')"
   ]
  },
  {
   "cell_type": "code",
   "execution_count": 38,
   "metadata": {},
   "outputs": [],
   "source": [
    "#final_dataset = pd.merge(final_dataset, acc, on=['timestamp'])\n",
    "final_dataset = pd.merge_asof(final_dataset, acc, left_on='timestamp',right_on='timestamp', direction='nearest')"
   ]
  },
  {
   "cell_type": "code",
   "execution_count": 39,
   "metadata": {},
   "outputs": [
    {
     "data": {
      "text/plain": [
       "array(['down', 'down_left', 'down_right', 'left', 'right', 'up',\n",
       "       'up_left', 'up_right'], dtype=object)"
      ]
     },
     "execution_count": 39,
     "metadata": {},
     "output_type": "execute_result"
    }
   ],
   "source": [
    "#### Encoding the lables\n",
    "\n",
    "from sklearn.preprocessing import LabelEncoder\n",
    "\n",
    "label = LabelEncoder()\n",
    "final_dataset['label'] = label.fit_transform(final_dataset['label'])\n",
    "final_dataset\n",
    "\n",
    "label.classes_"
   ]
  },
  {
   "cell_type": "markdown",
   "metadata": {},
   "source": [
    "### Normalizing the training set"
   ]
  },
  {
   "cell_type": "code",
   "execution_count": 40,
   "metadata": {},
   "outputs": [],
   "source": [
    "\n",
    "from sklearn.preprocessing import MinMaxScaler\n",
    "### Standardized data \n",
    "\n",
    "X = final_dataset.drop(['timestamp','label','acc_x','acc_y','acc_z','location_X', 'location_Y', 'X1', 'Y1', 'X2', 'Y2', 'X3', 'Y3',],axis=1)\n",
    "y = final_dataset['label']\n",
    "\n",
    "scaler = MinMaxScaler()\n",
    "X[['angle_1','angle_2','angle_3']] = scaler.fit_transform(X[['angle_1','angle_2','angle_3']])\n",
    "\n",
    "scaler = StandardScaler()\n",
    "X[['rssi_1', 'rssi_2', 'rssi_3','dis1','dis2','dis3','dis1_1','dis2_1','dis3_1']] = scaler.fit_transform(X[['rssi_1', 'rssi_2', 'rssi_3','dis1','dis2','dis3','dis1_1','dis2_1','dis3_1']])\n",
    "\n",
    "# scaled_X = pd.DataFrame(data = X, columns = ['rssi_1', 'rssi_2', 'angle_1', 'angle_2'])\n",
    "# scaled_X['label'] = y.values\n",
    "\n",
    "# scaled_X\n",
    "\n",
    "X_train, X_test, y_train, y_test = train_test_split(X, y, test_size = 0.2)"
   ]
  },
  {
   "cell_type": "markdown",
   "metadata": {},
   "source": [
    "### Trianing the model"
   ]
  },
  {
   "cell_type": "code",
   "execution_count": 41,
   "metadata": {},
   "outputs": [
    {
     "name": "stdout",
     "output_type": "stream",
     "text": [
      "Epoch 1/200\n",
      "767/767 [==============================] - 4s 2ms/step - loss: 2.0346 - accuracy: 0.1700 - val_loss: 1.9800 - val_accuracy: 0.2112\n",
      "Epoch 2/200\n",
      "767/767 [==============================] - 1s 1ms/step - loss: 1.9678 - accuracy: 0.2105 - val_loss: 1.9265 - val_accuracy: 0.2265\n",
      "Epoch 3/200\n",
      "767/767 [==============================] - 1s 1ms/step - loss: 1.9226 - accuracy: 0.2405 - val_loss: 1.8861 - val_accuracy: 0.2611\n",
      "Epoch 4/200\n",
      "767/767 [==============================] - 1s 1ms/step - loss: 1.8801 - accuracy: 0.2582 - val_loss: 1.8417 - val_accuracy: 0.2810\n",
      "Epoch 5/200\n",
      "767/767 [==============================] - 1s 1ms/step - loss: 1.8439 - accuracy: 0.2745 - val_loss: 1.7973 - val_accuracy: 0.3018\n",
      "Epoch 6/200\n",
      "767/767 [==============================] - 1s 1ms/step - loss: 1.8122 - accuracy: 0.2863 - val_loss: 1.7698 - val_accuracy: 0.2960\n",
      "Epoch 7/200\n",
      "767/767 [==============================] - 1s 1ms/step - loss: 1.7784 - accuracy: 0.2974 - val_loss: 1.7288 - val_accuracy: 0.3051\n",
      "Epoch 8/200\n",
      "767/767 [==============================] - 1s 1ms/step - loss: 1.7502 - accuracy: 0.3067 - val_loss: 1.7263 - val_accuracy: 0.3116\n",
      "Epoch 9/200\n",
      "767/767 [==============================] - 1s 1ms/step - loss: 1.7414 - accuracy: 0.3090 - val_loss: 1.6931 - val_accuracy: 0.3207\n",
      "Epoch 10/200\n",
      "767/767 [==============================] - 1s 1ms/step - loss: 1.7192 - accuracy: 0.3155 - val_loss: 1.6800 - val_accuracy: 0.3286\n",
      "Epoch 11/200\n",
      "767/767 [==============================] - 1s 1ms/step - loss: 1.7077 - accuracy: 0.3172 - val_loss: 1.6794 - val_accuracy: 0.3331\n",
      "Epoch 12/200\n",
      "767/767 [==============================] - 1s 1ms/step - loss: 1.6986 - accuracy: 0.3241 - val_loss: 1.6691 - val_accuracy: 0.3263\n",
      "Epoch 13/200\n",
      "767/767 [==============================] - 1s 1ms/step - loss: 1.6931 - accuracy: 0.3305 - val_loss: 1.6577 - val_accuracy: 0.3445\n",
      "Epoch 14/200\n",
      "767/767 [==============================] - 1s 1ms/step - loss: 1.6870 - accuracy: 0.3237 - val_loss: 1.6481 - val_accuracy: 0.3406\n",
      "Epoch 15/200\n",
      "767/767 [==============================] - 1s 1ms/step - loss: 1.6802 - accuracy: 0.3315 - val_loss: 1.6660 - val_accuracy: 0.3318\n",
      "Epoch 16/200\n",
      "767/767 [==============================] - 1s 1ms/step - loss: 1.6847 - accuracy: 0.3307 - val_loss: 1.6541 - val_accuracy: 0.3367\n",
      "Epoch 17/200\n",
      "767/767 [==============================] - 1s 1ms/step - loss: 1.6759 - accuracy: 0.3383 - val_loss: 1.6359 - val_accuracy: 0.3514\n",
      "Epoch 18/200\n",
      "767/767 [==============================] - 1s 1ms/step - loss: 1.6675 - accuracy: 0.3399 - val_loss: 1.6446 - val_accuracy: 0.3475\n",
      "Epoch 19/200\n",
      "767/767 [==============================] - 1s 1ms/step - loss: 1.6663 - accuracy: 0.3391 - val_loss: 1.6499 - val_accuracy: 0.3445\n",
      "Epoch 20/200\n",
      "767/767 [==============================] - 1s 992us/step - loss: 1.6565 - accuracy: 0.3433 - val_loss: 1.6244 - val_accuracy: 0.3647\n",
      "Epoch 21/200\n",
      "767/767 [==============================] - 1s 1ms/step - loss: 1.6584 - accuracy: 0.3426 - val_loss: 1.6355 - val_accuracy: 0.3481\n",
      "Epoch 22/200\n",
      "767/767 [==============================] - 1s 1ms/step - loss: 1.6555 - accuracy: 0.3441 - val_loss: 1.6261 - val_accuracy: 0.3530\n",
      "Epoch 23/200\n",
      "767/767 [==============================] - 1s 1ms/step - loss: 1.6485 - accuracy: 0.3428 - val_loss: 1.6212 - val_accuracy: 0.3641\n",
      "Epoch 24/200\n",
      "767/767 [==============================] - 1s 1ms/step - loss: 1.6521 - accuracy: 0.3548 - val_loss: 1.6146 - val_accuracy: 0.3608\n",
      "Epoch 25/200\n",
      "767/767 [==============================] - 1s 1ms/step - loss: 1.6481 - accuracy: 0.3481 - val_loss: 1.6141 - val_accuracy: 0.3677\n",
      "Epoch 26/200\n",
      "767/767 [==============================] - 1s 1ms/step - loss: 1.6419 - accuracy: 0.3463 - val_loss: 1.6156 - val_accuracy: 0.3576\n",
      "Epoch 27/200\n",
      "767/767 [==============================] - 1s 1ms/step - loss: 1.6414 - accuracy: 0.3489 - val_loss: 1.6213 - val_accuracy: 0.3585\n",
      "Epoch 28/200\n",
      "767/767 [==============================] - 1s 995us/step - loss: 1.6420 - accuracy: 0.3494 - val_loss: 1.6084 - val_accuracy: 0.3634\n",
      "Epoch 29/200\n",
      "767/767 [==============================] - 1s 1ms/step - loss: 1.6370 - accuracy: 0.3518 - val_loss: 1.6245 - val_accuracy: 0.3422\n",
      "Epoch 30/200\n",
      "767/767 [==============================] - 1s 1ms/step - loss: 1.6301 - accuracy: 0.3498 - val_loss: 1.6055 - val_accuracy: 0.3566\n",
      "Epoch 31/200\n",
      "767/767 [==============================] - 1s 995us/step - loss: 1.6326 - accuracy: 0.3499 - val_loss: 1.6124 - val_accuracy: 0.3530\n",
      "Epoch 32/200\n",
      "767/767 [==============================] - 1s 1ms/step - loss: 1.6253 - accuracy: 0.3541 - val_loss: 1.5957 - val_accuracy: 0.3592\n",
      "Epoch 33/200\n",
      "767/767 [==============================] - 1s 1ms/step - loss: 1.6232 - accuracy: 0.3565 - val_loss: 1.6039 - val_accuracy: 0.3585\n",
      "Epoch 34/200\n",
      "767/767 [==============================] - 1s 1ms/step - loss: 1.6260 - accuracy: 0.3520 - val_loss: 1.6095 - val_accuracy: 0.3592\n",
      "Epoch 35/200\n",
      "767/767 [==============================] - 1s 1ms/step - loss: 1.6210 - accuracy: 0.3607 - val_loss: 1.5940 - val_accuracy: 0.3582\n",
      "Epoch 36/200\n",
      "767/767 [==============================] - 1s 1ms/step - loss: 1.6210 - accuracy: 0.3541 - val_loss: 1.5998 - val_accuracy: 0.3595\n",
      "Epoch 37/200\n",
      "767/767 [==============================] - 1s 1ms/step - loss: 1.6171 - accuracy: 0.3609 - val_loss: 1.6016 - val_accuracy: 0.3517\n",
      "Epoch 38/200\n",
      "767/767 [==============================] - 1s 1ms/step - loss: 1.6216 - accuracy: 0.3503 - val_loss: 1.5851 - val_accuracy: 0.3810\n",
      "Epoch 39/200\n",
      "767/767 [==============================] - 1s 1ms/step - loss: 1.6086 - accuracy: 0.3571 - val_loss: 1.5872 - val_accuracy: 0.3726\n",
      "Epoch 40/200\n",
      "767/767 [==============================] - 1s 990us/step - loss: 1.6218 - accuracy: 0.3533 - val_loss: 1.6020 - val_accuracy: 0.3579\n",
      "Epoch 41/200\n",
      "767/767 [==============================] - 1s 1ms/step - loss: 1.6119 - accuracy: 0.3633 - val_loss: 1.5798 - val_accuracy: 0.3602\n",
      "Epoch 42/200\n",
      "767/767 [==============================] - 1s 992us/step - loss: 1.6083 - accuracy: 0.3618 - val_loss: 1.5814 - val_accuracy: 0.3686\n",
      "Epoch 43/200\n",
      "767/767 [==============================] - 1s 1ms/step - loss: 1.6093 - accuracy: 0.3587 - val_loss: 1.5999 - val_accuracy: 0.3563\n",
      "Epoch 44/200\n",
      "767/767 [==============================] - 1s 2ms/step - loss: 1.6056 - accuracy: 0.3630 - val_loss: 1.5834 - val_accuracy: 0.3638\n",
      "Epoch 45/200\n",
      "767/767 [==============================] - 1s 1ms/step - loss: 1.6056 - accuracy: 0.3599 - val_loss: 1.5879 - val_accuracy: 0.3752\n",
      "Epoch 46/200\n",
      "767/767 [==============================] - 1s 1ms/step - loss: 1.6097 - accuracy: 0.3587 - val_loss: 1.5736 - val_accuracy: 0.3781\n",
      "Epoch 47/200\n",
      "767/767 [==============================] - 1s 1ms/step - loss: 1.5999 - accuracy: 0.3655 - val_loss: 1.5788 - val_accuracy: 0.3778\n",
      "Epoch 48/200\n",
      "767/767 [==============================] - 1s 1ms/step - loss: 1.6058 - accuracy: 0.3602 - val_loss: 1.5846 - val_accuracy: 0.3686\n",
      "Epoch 49/200\n",
      "767/767 [==============================] - 1s 1ms/step - loss: 1.6044 - accuracy: 0.3613 - val_loss: 1.5826 - val_accuracy: 0.3683\n",
      "Epoch 50/200\n",
      "767/767 [==============================] - 1s 1ms/step - loss: 1.6009 - accuracy: 0.3639 - val_loss: 1.5849 - val_accuracy: 0.3729\n",
      "Epoch 51/200\n",
      "767/767 [==============================] - 1s 1ms/step - loss: 1.5935 - accuracy: 0.3669 - val_loss: 1.5905 - val_accuracy: 0.3703\n",
      "Epoch 52/200\n",
      "767/767 [==============================] - 1s 1ms/step - loss: 1.6028 - accuracy: 0.3640 - val_loss: 1.5758 - val_accuracy: 0.3755\n",
      "Epoch 53/200\n",
      "767/767 [==============================] - 1s 996us/step - loss: 1.5953 - accuracy: 0.3670 - val_loss: 1.5792 - val_accuracy: 0.3774\n",
      "Epoch 54/200\n",
      "767/767 [==============================] - 1s 994us/step - loss: 1.5964 - accuracy: 0.3643 - val_loss: 1.5708 - val_accuracy: 0.3670\n",
      "Epoch 55/200\n",
      "767/767 [==============================] - 1s 1ms/step - loss: 1.5972 - accuracy: 0.3649 - val_loss: 1.5644 - val_accuracy: 0.3765\n",
      "Epoch 56/200\n",
      "767/767 [==============================] - 1s 987us/step - loss: 1.6002 - accuracy: 0.3656 - val_loss: 1.5741 - val_accuracy: 0.3696\n",
      "Epoch 57/200\n",
      "767/767 [==============================] - 1s 1ms/step - loss: 1.5977 - accuracy: 0.3613 - val_loss: 1.5749 - val_accuracy: 0.3657\n"
     ]
    },
    {
     "name": "stdout",
     "output_type": "stream",
     "text": [
      "Epoch 58/200\n",
      "767/767 [==============================] - 1s 1ms/step - loss: 1.5955 - accuracy: 0.3706 - val_loss: 1.5724 - val_accuracy: 0.3856\n",
      "Epoch 59/200\n",
      "767/767 [==============================] - 1s 983us/step - loss: 1.5915 - accuracy: 0.3644 - val_loss: 1.5678 - val_accuracy: 0.3791\n",
      "Epoch 60/200\n",
      "767/767 [==============================] - 1s 1ms/step - loss: 1.5938 - accuracy: 0.3707 - val_loss: 1.5852 - val_accuracy: 0.3673\n",
      "Epoch 61/200\n",
      "767/767 [==============================] - 1s 1ms/step - loss: 1.5910 - accuracy: 0.3701 - val_loss: 1.5733 - val_accuracy: 0.3804\n",
      "Epoch 62/200\n",
      "767/767 [==============================] - 1s 1ms/step - loss: 1.5960 - accuracy: 0.3682 - val_loss: 1.5638 - val_accuracy: 0.3742\n",
      "Epoch 63/200\n",
      "767/767 [==============================] - 1s 1ms/step - loss: 1.5915 - accuracy: 0.3666 - val_loss: 1.5862 - val_accuracy: 0.3677\n",
      "Epoch 64/200\n",
      "767/767 [==============================] - 1s 980us/step - loss: 1.5852 - accuracy: 0.3702 - val_loss: 1.5637 - val_accuracy: 0.3869\n",
      "Epoch 65/200\n",
      "767/767 [==============================] - 1s 968us/step - loss: 1.5918 - accuracy: 0.3648 - val_loss: 1.5608 - val_accuracy: 0.3902\n",
      "Epoch 66/200\n",
      "767/767 [==============================] - 1s 977us/step - loss: 1.5925 - accuracy: 0.3679 - val_loss: 1.5607 - val_accuracy: 0.3833\n",
      "Epoch 67/200\n",
      "767/767 [==============================] - 1s 1ms/step - loss: 1.5847 - accuracy: 0.3725 - val_loss: 1.5613 - val_accuracy: 0.3810\n",
      "Epoch 68/200\n",
      "767/767 [==============================] - 1s 1ms/step - loss: 1.5858 - accuracy: 0.3701 - val_loss: 1.5771 - val_accuracy: 0.3745\n",
      "Epoch 69/200\n",
      "767/767 [==============================] - 1s 1ms/step - loss: 1.5874 - accuracy: 0.3669 - val_loss: 1.5711 - val_accuracy: 0.3768\n",
      "Epoch 70/200\n",
      "767/767 [==============================] - 1s 1ms/step - loss: 1.5833 - accuracy: 0.3743 - val_loss: 1.5634 - val_accuracy: 0.3836\n",
      "Epoch 71/200\n",
      "767/767 [==============================] - 1s 1ms/step - loss: 1.5854 - accuracy: 0.3698 - val_loss: 1.5666 - val_accuracy: 0.3683\n",
      "Epoch 72/200\n",
      "767/767 [==============================] - 1s 1ms/step - loss: 1.5847 - accuracy: 0.3740 - val_loss: 1.5604 - val_accuracy: 0.3709\n",
      "Epoch 73/200\n",
      "767/767 [==============================] - 1s 993us/step - loss: 1.5804 - accuracy: 0.3748 - val_loss: 1.5773 - val_accuracy: 0.3699\n",
      "Epoch 74/200\n",
      "767/767 [==============================] - 1s 992us/step - loss: 1.5853 - accuracy: 0.3733 - val_loss: 1.5772 - val_accuracy: 0.3719\n",
      "Epoch 75/200\n",
      "767/767 [==============================] - 1s 1ms/step - loss: 1.5776 - accuracy: 0.3700 - val_loss: 1.5720 - val_accuracy: 0.3742\n",
      "Epoch 76/200\n",
      "767/767 [==============================] - 1s 1ms/step - loss: 1.5824 - accuracy: 0.3742 - val_loss: 1.5737 - val_accuracy: 0.3735\n",
      "Epoch 77/200\n",
      "767/767 [==============================] - 1s 984us/step - loss: 1.5837 - accuracy: 0.3735 - val_loss: 1.5637 - val_accuracy: 0.3742\n",
      "Epoch 78/200\n",
      "767/767 [==============================] - 1s 1ms/step - loss: 1.5789 - accuracy: 0.3804 - val_loss: 1.5737 - val_accuracy: 0.3719\n",
      "Epoch 79/200\n",
      "767/767 [==============================] - 1s 1ms/step - loss: 1.5781 - accuracy: 0.3773 - val_loss: 1.5703 - val_accuracy: 0.3755\n",
      "Epoch 80/200\n",
      "767/767 [==============================] - 1s 971us/step - loss: 1.5801 - accuracy: 0.3770 - val_loss: 1.5708 - val_accuracy: 0.3722\n",
      "Epoch 81/200\n",
      "767/767 [==============================] - 1s 1ms/step - loss: 1.5798 - accuracy: 0.3772 - val_loss: 1.5616 - val_accuracy: 0.3761\n",
      "Epoch 82/200\n",
      "767/767 [==============================] - 1s 1ms/step - loss: 1.5744 - accuracy: 0.3799 - val_loss: 1.5654 - val_accuracy: 0.3761\n",
      "Epoch 83/200\n",
      "767/767 [==============================] - 1s 985us/step - loss: 1.5758 - accuracy: 0.3766 - val_loss: 1.5577 - val_accuracy: 0.3735\n",
      "Epoch 84/200\n",
      "767/767 [==============================] - 1s 982us/step - loss: 1.5808 - accuracy: 0.3702 - val_loss: 1.5566 - val_accuracy: 0.3856\n",
      "Epoch 85/200\n",
      "767/767 [==============================] - 1s 1ms/step - loss: 1.5752 - accuracy: 0.3787 - val_loss: 1.5566 - val_accuracy: 0.3758\n",
      "Epoch 86/200\n",
      "767/767 [==============================] - 1s 1ms/step - loss: 1.5704 - accuracy: 0.3783 - val_loss: 1.5588 - val_accuracy: 0.3758\n",
      "Epoch 87/200\n",
      "767/767 [==============================] - 1s 1ms/step - loss: 1.5682 - accuracy: 0.3761 - val_loss: 1.5562 - val_accuracy: 0.3830\n",
      "Epoch 88/200\n",
      "767/767 [==============================] - 1s 1ms/step - loss: 1.5697 - accuracy: 0.3773 - val_loss: 1.5685 - val_accuracy: 0.3722\n",
      "Epoch 89/200\n",
      "767/767 [==============================] - 1s 971us/step - loss: 1.5730 - accuracy: 0.3757 - val_loss: 1.5630 - val_accuracy: 0.3843\n",
      "Epoch 90/200\n",
      "767/767 [==============================] - 1s 993us/step - loss: 1.5720 - accuracy: 0.3776 - val_loss: 1.5704 - val_accuracy: 0.3657\n",
      "Epoch 91/200\n",
      "767/767 [==============================] - 1s 995us/step - loss: 1.5761 - accuracy: 0.3715 - val_loss: 1.5720 - val_accuracy: 0.3589\n",
      "Epoch 92/200\n",
      "767/767 [==============================] - 1s 1ms/step - loss: 1.5790 - accuracy: 0.3728 - val_loss: 1.5620 - val_accuracy: 0.3781\n",
      "Epoch 93/200\n",
      "767/767 [==============================] - 1s 973us/step - loss: 1.5736 - accuracy: 0.3753 - val_loss: 1.5638 - val_accuracy: 0.3742\n",
      "Epoch 94/200\n",
      "767/767 [==============================] - 1s 1ms/step - loss: 1.5731 - accuracy: 0.3780 - val_loss: 1.5613 - val_accuracy: 0.3797\n",
      "Epoch 95/200\n",
      "767/767 [==============================] - 1s 1ms/step - loss: 1.5685 - accuracy: 0.3825 - val_loss: 1.5575 - val_accuracy: 0.3752\n",
      "Epoch 96/200\n",
      "767/767 [==============================] - 1s 996us/step - loss: 1.5709 - accuracy: 0.3746 - val_loss: 1.5538 - val_accuracy: 0.3804\n",
      "Epoch 97/200\n",
      "767/767 [==============================] - 1s 1ms/step - loss: 1.5669 - accuracy: 0.3815 - val_loss: 1.5570 - val_accuracy: 0.3830\n",
      "Epoch 98/200\n",
      "767/767 [==============================] - 1s 1ms/step - loss: 1.5679 - accuracy: 0.3812 - val_loss: 1.5620 - val_accuracy: 0.3807\n",
      "Epoch 99/200\n",
      "767/767 [==============================] - 1s 987us/step - loss: 1.5711 - accuracy: 0.3818 - val_loss: 1.5628 - val_accuracy: 0.3703\n",
      "Epoch 100/200\n",
      "767/767 [==============================] - 1s 984us/step - loss: 1.5717 - accuracy: 0.3832 - val_loss: 1.5537 - val_accuracy: 0.3797\n",
      "Epoch 101/200\n",
      "767/767 [==============================] - 1s 1ms/step - loss: 1.5753 - accuracy: 0.3801 - val_loss: 1.5586 - val_accuracy: 0.3748\n",
      "Epoch 102/200\n",
      "767/767 [==============================] - 1s 1ms/step - loss: 1.5654 - accuracy: 0.3779 - val_loss: 1.5678 - val_accuracy: 0.3686\n",
      "Epoch 103/200\n",
      "767/767 [==============================] - 1s 1ms/step - loss: 1.5710 - accuracy: 0.3804 - val_loss: 1.5431 - val_accuracy: 0.3787\n",
      "Epoch 104/200\n",
      "767/767 [==============================] - 1s 1ms/step - loss: 1.5679 - accuracy: 0.3813 - val_loss: 1.5449 - val_accuracy: 0.3836\n",
      "Epoch 105/200\n",
      "767/767 [==============================] - 1s 977us/step - loss: 1.5655 - accuracy: 0.3802 - val_loss: 1.5695 - val_accuracy: 0.3761\n",
      "Epoch 106/200\n",
      "767/767 [==============================] - 1s 981us/step - loss: 1.5686 - accuracy: 0.3837 - val_loss: 1.5548 - val_accuracy: 0.3752\n",
      "Epoch 107/200\n",
      "767/767 [==============================] - 1s 999us/step - loss: 1.5655 - accuracy: 0.3856 - val_loss: 1.5567 - val_accuracy: 0.3745\n",
      "Epoch 108/200\n",
      "767/767 [==============================] - 1s 979us/step - loss: 1.5661 - accuracy: 0.3799 - val_loss: 1.5658 - val_accuracy: 0.3618\n",
      "Epoch 109/200\n",
      "767/767 [==============================] - 1s 1ms/step - loss: 1.5666 - accuracy: 0.3735 - val_loss: 1.5604 - val_accuracy: 0.3846\n",
      "Epoch 110/200\n",
      "767/767 [==============================] - 1s 975us/step - loss: 1.5722 - accuracy: 0.3759 - val_loss: 1.5398 - val_accuracy: 0.3902\n",
      "Epoch 111/200\n",
      "767/767 [==============================] - 1s 989us/step - loss: 1.5721 - accuracy: 0.3854 - val_loss: 1.5551 - val_accuracy: 0.3791\n",
      "Epoch 112/200\n",
      "767/767 [==============================] - 1s 982us/step - loss: 1.5572 - accuracy: 0.3805 - val_loss: 1.5628 - val_accuracy: 0.3755\n",
      "Epoch 113/200\n",
      "767/767 [==============================] - 1s 985us/step - loss: 1.5621 - accuracy: 0.3819 - val_loss: 1.5482 - val_accuracy: 0.3778\n",
      "Epoch 114/200\n"
     ]
    },
    {
     "name": "stdout",
     "output_type": "stream",
     "text": [
      "767/767 [==============================] - 1s 1ms/step - loss: 1.5646 - accuracy: 0.3849 - val_loss: 1.5494 - val_accuracy: 0.3774\n",
      "Epoch 115/200\n",
      "767/767 [==============================] - 1s 996us/step - loss: 1.5625 - accuracy: 0.3882 - val_loss: 1.5602 - val_accuracy: 0.3817\n",
      "Epoch 116/200\n",
      "767/767 [==============================] - 1s 999us/step - loss: 1.5677 - accuracy: 0.3846 - val_loss: 1.5378 - val_accuracy: 0.3921\n",
      "Epoch 117/200\n",
      "767/767 [==============================] - 1s 1ms/step - loss: 1.5629 - accuracy: 0.3809 - val_loss: 1.5594 - val_accuracy: 0.3735\n",
      "Epoch 118/200\n",
      "767/767 [==============================] - 1s 1ms/step - loss: 1.5677 - accuracy: 0.3802 - val_loss: 1.5662 - val_accuracy: 0.3755\n",
      "Epoch 119/200\n",
      "767/767 [==============================] - 1s 1ms/step - loss: 1.5677 - accuracy: 0.3798 - val_loss: 1.5544 - val_accuracy: 0.3722\n",
      "Epoch 120/200\n",
      "767/767 [==============================] - 1s 1ms/step - loss: 1.5652 - accuracy: 0.3828 - val_loss: 1.5601 - val_accuracy: 0.3722\n",
      "Epoch 121/200\n",
      "767/767 [==============================] - 1s 1ms/step - loss: 1.5592 - accuracy: 0.3772 - val_loss: 1.5454 - val_accuracy: 0.3872\n",
      "Epoch 122/200\n",
      "767/767 [==============================] - 1s 1ms/step - loss: 1.5681 - accuracy: 0.3732 - val_loss: 1.5509 - val_accuracy: 0.3817\n",
      "Epoch 123/200\n",
      "767/767 [==============================] - 1s 995us/step - loss: 1.5679 - accuracy: 0.3797 - val_loss: 1.5515 - val_accuracy: 0.3761\n",
      "Epoch 124/200\n",
      "767/767 [==============================] - 1s 1ms/step - loss: 1.5626 - accuracy: 0.3796 - val_loss: 1.5622 - val_accuracy: 0.3732\n",
      "Epoch 125/200\n",
      "767/767 [==============================] - 1s 1ms/step - loss: 1.5573 - accuracy: 0.3886 - val_loss: 1.5617 - val_accuracy: 0.3836\n",
      "Epoch 126/200\n",
      "767/767 [==============================] - 1s 1ms/step - loss: 1.5585 - accuracy: 0.3866 - val_loss: 1.5504 - val_accuracy: 0.3892\n",
      "Epoch 127/200\n",
      "767/767 [==============================] - 1s 993us/step - loss: 1.5651 - accuracy: 0.3810 - val_loss: 1.5494 - val_accuracy: 0.3866\n",
      "Epoch 128/200\n",
      "767/767 [==============================] - 1s 1ms/step - loss: 1.5547 - accuracy: 0.3852 - val_loss: 1.5464 - val_accuracy: 0.3862\n",
      "Epoch 129/200\n",
      "767/767 [==============================] - 1s 1ms/step - loss: 1.5544 - accuracy: 0.3794 - val_loss: 1.5496 - val_accuracy: 0.3827\n",
      "Epoch 130/200\n",
      "767/767 [==============================] - 1s 1ms/step - loss: 1.5610 - accuracy: 0.3805 - val_loss: 1.5425 - val_accuracy: 0.3905\n",
      "Epoch 131/200\n",
      "767/767 [==============================] - 1s 1ms/step - loss: 1.5624 - accuracy: 0.3825 - val_loss: 1.5449 - val_accuracy: 0.3915\n",
      "Epoch 132/200\n",
      "767/767 [==============================] - 1s 979us/step - loss: 1.5529 - accuracy: 0.3847 - val_loss: 1.5412 - val_accuracy: 0.3924\n",
      "Epoch 133/200\n",
      "767/767 [==============================] - 1s 1ms/step - loss: 1.5601 - accuracy: 0.3847 - val_loss: 1.5435 - val_accuracy: 0.3941\n",
      "Epoch 134/200\n",
      "767/767 [==============================] - 1s 987us/step - loss: 1.5570 - accuracy: 0.3810 - val_loss: 1.5387 - val_accuracy: 0.3856\n",
      "Epoch 135/200\n",
      "767/767 [==============================] - 1s 1ms/step - loss: 1.5512 - accuracy: 0.3847 - val_loss: 1.5479 - val_accuracy: 0.3722\n",
      "Epoch 136/200\n",
      "767/767 [==============================] - 1s 1ms/step - loss: 1.5591 - accuracy: 0.3824 - val_loss: 1.5419 - val_accuracy: 0.3866\n",
      "Epoch 137/200\n",
      "767/767 [==============================] - 1s 1ms/step - loss: 1.5585 - accuracy: 0.3825 - val_loss: 1.5523 - val_accuracy: 0.3768\n",
      "Epoch 138/200\n",
      "767/767 [==============================] - 1s 996us/step - loss: 1.5566 - accuracy: 0.3883 - val_loss: 1.5519 - val_accuracy: 0.3752\n",
      "Epoch 139/200\n",
      "767/767 [==============================] - 1s 1ms/step - loss: 1.5563 - accuracy: 0.3806 - val_loss: 1.5571 - val_accuracy: 0.3791\n",
      "Epoch 140/200\n",
      "767/767 [==============================] - 1s 1ms/step - loss: 1.5587 - accuracy: 0.3895 - val_loss: 1.5591 - val_accuracy: 0.3787\n",
      "Epoch 141/200\n",
      "767/767 [==============================] - 1s 980us/step - loss: 1.5507 - accuracy: 0.3851 - val_loss: 1.5429 - val_accuracy: 0.3875\n",
      "Epoch 142/200\n",
      "767/767 [==============================] - 1s 992us/step - loss: 1.5570 - accuracy: 0.3801 - val_loss: 1.5480 - val_accuracy: 0.3771\n",
      "Epoch 143/200\n",
      "767/767 [==============================] - 1s 1ms/step - loss: 1.5571 - accuracy: 0.3836 - val_loss: 1.5522 - val_accuracy: 0.3846\n",
      "Epoch 144/200\n",
      "767/767 [==============================] - 1s 1ms/step - loss: 1.5473 - accuracy: 0.3856 - val_loss: 1.5515 - val_accuracy: 0.3778\n",
      "Epoch 145/200\n",
      "767/767 [==============================] - 1s 990us/step - loss: 1.5567 - accuracy: 0.3876 - val_loss: 1.5610 - val_accuracy: 0.3758\n",
      "Epoch 146/200\n",
      "767/767 [==============================] - 1s 1ms/step - loss: 1.5589 - accuracy: 0.3820 - val_loss: 1.5490 - val_accuracy: 0.3856\n",
      "Epoch 147/200\n",
      "767/767 [==============================] - 1s 1ms/step - loss: 1.5568 - accuracy: 0.3840 - val_loss: 1.5388 - val_accuracy: 0.3931\n",
      "Epoch 148/200\n",
      "767/767 [==============================] - 1s 1ms/step - loss: 1.5543 - accuracy: 0.3869 - val_loss: 1.5636 - val_accuracy: 0.3699\n",
      "Epoch 149/200\n",
      "767/767 [==============================] - 1s 1ms/step - loss: 1.5537 - accuracy: 0.3887 - val_loss: 1.5509 - val_accuracy: 0.3820\n",
      "Epoch 150/200\n",
      "767/767 [==============================] - 1s 1ms/step - loss: 1.5493 - accuracy: 0.3832 - val_loss: 1.5509 - val_accuracy: 0.3833\n",
      "Epoch 151/200\n",
      "767/767 [==============================] - 1s 1ms/step - loss: 1.5542 - accuracy: 0.3860 - val_loss: 1.5507 - val_accuracy: 0.3849\n",
      "Epoch 152/200\n",
      "767/767 [==============================] - 1s 1ms/step - loss: 1.5534 - accuracy: 0.3901 - val_loss: 1.5384 - val_accuracy: 0.3869\n",
      "Epoch 153/200\n",
      "767/767 [==============================] - 1s 1ms/step - loss: 1.5534 - accuracy: 0.3828 - val_loss: 1.5538 - val_accuracy: 0.3765\n",
      "Epoch 154/200\n",
      "767/767 [==============================] - 1s 991us/step - loss: 1.5489 - accuracy: 0.3873 - val_loss: 1.5344 - val_accuracy: 0.3895\n",
      "Epoch 155/200\n",
      "767/767 [==============================] - 1s 1ms/step - loss: 1.5533 - accuracy: 0.3821 - val_loss: 1.5533 - val_accuracy: 0.3778\n",
      "Epoch 156/200\n",
      "767/767 [==============================] - 1s 1ms/step - loss: 1.5519 - accuracy: 0.3917 - val_loss: 1.5443 - val_accuracy: 0.3859\n",
      "Epoch 157/200\n",
      "767/767 [==============================] - 1s 1ms/step - loss: 1.5526 - accuracy: 0.3863 - val_loss: 1.5521 - val_accuracy: 0.3778\n",
      "Epoch 158/200\n",
      "767/767 [==============================] - 1s 1ms/step - loss: 1.5520 - accuracy: 0.3874 - val_loss: 1.5350 - val_accuracy: 0.3849\n",
      "Epoch 159/200\n",
      "767/767 [==============================] - 1s 1ms/step - loss: 1.5486 - accuracy: 0.3895 - val_loss: 1.5473 - val_accuracy: 0.3885\n",
      "Epoch 160/200\n",
      "767/767 [==============================] - 1s 1ms/step - loss: 1.5573 - accuracy: 0.3829 - val_loss: 1.5341 - val_accuracy: 0.3993\n",
      "Epoch 161/200\n",
      "767/767 [==============================] - 1s 2ms/step - loss: 1.5630 - accuracy: 0.3904 - val_loss: 1.5436 - val_accuracy: 0.3787\n",
      "Epoch 162/200\n",
      "767/767 [==============================] - 1s 1ms/step - loss: 1.5571 - accuracy: 0.3802 - val_loss: 1.5462 - val_accuracy: 0.3836\n",
      "Epoch 163/200\n",
      "767/767 [==============================] - 1s 1ms/step - loss: 1.5516 - accuracy: 0.3833 - val_loss: 1.5433 - val_accuracy: 0.3791\n",
      "Epoch 164/200\n",
      "767/767 [==============================] - 1s 1ms/step - loss: 1.5543 - accuracy: 0.3843 - val_loss: 1.5529 - val_accuracy: 0.3765\n",
      "Epoch 165/200\n",
      "767/767 [==============================] - 1s 1ms/step - loss: 1.5564 - accuracy: 0.3920 - val_loss: 1.5617 - val_accuracy: 0.3748\n",
      "Epoch 166/200\n",
      "767/767 [==============================] - 1s 1ms/step - loss: 1.5569 - accuracy: 0.3772 - val_loss: 1.5590 - val_accuracy: 0.3719\n",
      "Epoch 167/200\n",
      "767/767 [==============================] - 1s 1ms/step - loss: 1.5554 - accuracy: 0.3849 - val_loss: 1.5468 - val_accuracy: 0.3872\n",
      "Epoch 168/200\n",
      "767/767 [==============================] - 1s 1ms/step - loss: 1.5453 - accuracy: 0.3813 - val_loss: 1.5465 - val_accuracy: 0.3765\n",
      "Epoch 169/200\n",
      "767/767 [==============================] - 1s 1ms/step - loss: 1.5547 - accuracy: 0.3865 - val_loss: 1.5390 - val_accuracy: 0.3859\n",
      "Epoch 170/200\n"
     ]
    },
    {
     "name": "stdout",
     "output_type": "stream",
     "text": [
      "767/767 [==============================] - 1s 1ms/step - loss: 1.5476 - accuracy: 0.3888 - val_loss: 1.5490 - val_accuracy: 0.3882\n",
      "Epoch 171/200\n",
      "767/767 [==============================] - 1s 1ms/step - loss: 1.5424 - accuracy: 0.3889 - val_loss: 1.5456 - val_accuracy: 0.3862\n",
      "Epoch 172/200\n",
      "767/767 [==============================] - 1s 1ms/step - loss: 1.5497 - accuracy: 0.3834 - val_loss: 1.5567 - val_accuracy: 0.3771\n",
      "Epoch 173/200\n",
      "767/767 [==============================] - 1s 1ms/step - loss: 1.5537 - accuracy: 0.3854 - val_loss: 1.5400 - val_accuracy: 0.3814\n",
      "Epoch 174/200\n",
      "767/767 [==============================] - 1s 1ms/step - loss: 1.5459 - accuracy: 0.3914 - val_loss: 1.5535 - val_accuracy: 0.3794\n",
      "Epoch 175/200\n",
      "767/767 [==============================] - 1s 1ms/step - loss: 1.5511 - accuracy: 0.3889 - val_loss: 1.5592 - val_accuracy: 0.3722\n",
      "Epoch 176/200\n",
      "767/767 [==============================] - 1s 1ms/step - loss: 1.5475 - accuracy: 0.3875 - val_loss: 1.5572 - val_accuracy: 0.3827\n",
      "Epoch 177/200\n",
      "767/767 [==============================] - 1s 1ms/step - loss: 1.5517 - accuracy: 0.3854 - val_loss: 1.5523 - val_accuracy: 0.3713\n",
      "Epoch 178/200\n",
      "767/767 [==============================] - 1s 1ms/step - loss: 1.5457 - accuracy: 0.3918 - val_loss: 1.5517 - val_accuracy: 0.3784\n",
      "Epoch 179/200\n",
      "767/767 [==============================] - 1s 1ms/step - loss: 1.5489 - accuracy: 0.3899 - val_loss: 1.5650 - val_accuracy: 0.3713\n",
      "Epoch 180/200\n",
      "767/767 [==============================] - 1s 1ms/step - loss: 1.5518 - accuracy: 0.3854 - val_loss: 1.5458 - val_accuracy: 0.3719\n",
      "Epoch 181/200\n",
      "767/767 [==============================] - 1s 1ms/step - loss: 1.5467 - accuracy: 0.3953 - val_loss: 1.5318 - val_accuracy: 0.3980\n",
      "Epoch 182/200\n",
      "767/767 [==============================] - 1s 1ms/step - loss: 1.5511 - accuracy: 0.3878 - val_loss: 1.5508 - val_accuracy: 0.3879\n",
      "Epoch 183/200\n",
      "767/767 [==============================] - 1s 1ms/step - loss: 1.5442 - accuracy: 0.3922 - val_loss: 1.5452 - val_accuracy: 0.3957\n",
      "Epoch 184/200\n",
      "767/767 [==============================] - 1s 1ms/step - loss: 1.5405 - accuracy: 0.3886 - val_loss: 1.5393 - val_accuracy: 0.3921\n",
      "Epoch 185/200\n",
      "767/767 [==============================] - 1s 1ms/step - loss: 1.5463 - accuracy: 0.3850 - val_loss: 1.5353 - val_accuracy: 0.3882\n",
      "Epoch 186/200\n",
      "767/767 [==============================] - 1s 1ms/step - loss: 1.5375 - accuracy: 0.3885 - val_loss: 1.5460 - val_accuracy: 0.3836\n",
      "Epoch 187/200\n",
      "767/767 [==============================] - 1s 1ms/step - loss: 1.5393 - accuracy: 0.3909 - val_loss: 1.5436 - val_accuracy: 0.3836\n",
      "Epoch 188/200\n",
      "767/767 [==============================] - 1s 1ms/step - loss: 1.5491 - accuracy: 0.3826 - val_loss: 1.5406 - val_accuracy: 0.3895\n",
      "Epoch 189/200\n",
      "767/767 [==============================] - 1s 995us/step - loss: 1.5427 - accuracy: 0.3896 - val_loss: 1.5397 - val_accuracy: 0.3840\n",
      "Epoch 190/200\n",
      "767/767 [==============================] - 1s 1ms/step - loss: 1.5460 - accuracy: 0.3900 - val_loss: 1.5372 - val_accuracy: 0.3875\n",
      "Epoch 191/200\n",
      "767/767 [==============================] - 1s 1ms/step - loss: 1.5385 - accuracy: 0.3918 - val_loss: 1.5377 - val_accuracy: 0.3836\n",
      "Epoch 192/200\n",
      "767/767 [==============================] - 1s 1ms/step - loss: 1.5402 - accuracy: 0.3883 - val_loss: 1.5422 - val_accuracy: 0.3895\n",
      "Epoch 193/200\n",
      "767/767 [==============================] - 1s 1ms/step - loss: 1.5433 - accuracy: 0.3821 - val_loss: 1.5566 - val_accuracy: 0.3846\n",
      "Epoch 194/200\n",
      "767/767 [==============================] - 1s 1ms/step - loss: 1.5470 - accuracy: 0.3914 - val_loss: 1.5424 - val_accuracy: 0.3869\n",
      "Epoch 195/200\n",
      "767/767 [==============================] - 1s 993us/step - loss: 1.5448 - accuracy: 0.3864 - val_loss: 1.5595 - val_accuracy: 0.3807\n",
      "Epoch 196/200\n",
      "767/767 [==============================] - 1s 981us/step - loss: 1.5439 - accuracy: 0.3894 - val_loss: 1.5453 - val_accuracy: 0.3921\n",
      "Epoch 197/200\n",
      "767/767 [==============================] - 1s 1ms/step - loss: 1.5451 - accuracy: 0.3843 - val_loss: 1.5324 - val_accuracy: 0.3970\n",
      "Epoch 198/200\n",
      "767/767 [==============================] - 1s 1ms/step - loss: 1.5477 - accuracy: 0.3892 - val_loss: 1.5498 - val_accuracy: 0.3853\n",
      "Epoch 199/200\n",
      "767/767 [==============================] - 1s 1ms/step - loss: 1.5493 - accuracy: 0.3882 - val_loss: 1.5532 - val_accuracy: 0.3823\n",
      "Epoch 200/200\n",
      "767/767 [==============================] - 1s 1ms/step - loss: 1.5483 - accuracy: 0.3828 - val_loss: 1.5491 - val_accuracy: 0.3820\n"
     ]
    },
    {
     "data": {
      "image/png": "[encoded data removed]",
      "text/plain": [
       "<Figure size 432x288 with 1 Axes>"
      ]
     },
     "metadata": {
      "needs_background": "light"
     },
     "output_type": "display_data"
    },
    {
     "data": {
      "image/png": "[encoded data removed]",
      "text/plain": [
       "<Figure size 432x288 with 1 Axes>"
      ]
     },
     "metadata": {
      "needs_background": "light"
     },
     "output_type": "display_data"
    }
   ],
   "source": [
    "### Creating the Model\n",
    "\n",
    "import tensorflow as tf\n",
    "from tensorflow.keras.models import Sequential\n",
    "from tensorflow.keras.layers import Dense, Activation,Dropout\n",
    "from tensorflow.keras.constraints import max_norm\n",
    "from tensorflow.keras.optimizers import Adam\n",
    "\n",
    "model = Sequential()\n",
    "\n",
    "# input layer\n",
    "model.add(Dense(13,  activation='relu'))\n",
    "model.add(Dropout(0.1))\n",
    "\n",
    "model.add(Dense(32,  activation='relu'))\n",
    "model.add(Dropout(0.1))\n",
    "\n",
    "model.add(Dense(64,  activation='relu'))\n",
    "model.add(Dropout(0.1))\n",
    "\n",
    "\n",
    "# output layer\n",
    "model.add(Dense(8, activation='softmax'))\n",
    "\n",
    "# Compile model\n",
    "model.compile(optimizer=Adam(learning_rate = 0.001),\n",
    "              loss = 'sparse_categorical_crossentropy', metrics = ['accuracy'])\n",
    "\n",
    "history = model.fit(X_train, y_train, batch_size=16 ,epochs = 200,validation_data= (X_test, y_test), verbose=1)\n",
    "\n",
    "def plot_learningCurve(history, epochs):\n",
    "  # Plot training & validation accuracy values\n",
    "  epoch_range = range(1, epochs+1)\n",
    "  plt.plot(epoch_range, history.history['accuracy'])\n",
    "  plt.plot(epoch_range, history.history['val_accuracy'])\n",
    "  plt.title('Model accuracy')\n",
    "  plt.ylabel('Accuracy')\n",
    "  plt.xlabel('Epoch')\n",
    "  plt.legend(['Train', 'Val'], loc='upper left')\n",
    "  plt.show()\n",
    "\n",
    "  # Plot training & validation loss values\n",
    "  plt.plot(epoch_range, history.history['loss'])\n",
    "  plt.plot(epoch_range, history.history['val_loss'])\n",
    "  plt.title('Model loss')\n",
    "  plt.ylabel('Loss')\n",
    "  plt.xlabel('Epoch')\n",
    "  plt.legend(['Train', 'Val'], loc='upper left')\n",
    "  plt.show()\n",
    "\n",
    "plot_learningCurve(history,200)\n",
    "\n",
    "from mlxtend.plotting import plot_confusion_matrix\n",
    "from sklearn.metrics import confusion_matrix,classification_report\n"
   ]
  },
  {
   "cell_type": "code",
   "execution_count": 42,
   "metadata": {},
   "outputs": [
    {
     "data": {
      "image/png": "[encoded data removed]",
      "text/plain": [
       "<Figure size 432x288 with 1 Axes>"
      ]
     },
     "metadata": {
      "needs_background": "light"
     },
     "output_type": "display_data"
    },
    {
     "data": {
      "image/png": "[encoded data removed]",
      "text/plain": [
       "<Figure size 432x288 with 1 Axes>"
      ]
     },
     "metadata": {
      "needs_background": "light"
     },
     "output_type": "display_data"
    }
   ],
   "source": [
    "plot_learningCurve(history,200)\n",
    "\n",
    "#plt.savefig('lefttt.png',dpi=650)"
   ]
  },
  {
   "cell_type": "code",
   "execution_count": 43,
   "metadata": {},
   "outputs": [],
   "source": [
    "#model.save('nov_Head_Orientation_DNN.h5')"
   ]
  },
  {
   "cell_type": "code",
   "execution_count": 44,
   "metadata": {},
   "outputs": [],
   "source": [
    "y_pred=model.predict(X_test) \n",
    "y_pred=np.argmax(y_pred,axis=1)"
   ]
  },
  {
   "cell_type": "code",
   "execution_count": 45,
   "metadata": {},
   "outputs": [],
   "source": [
    "mat = confusion_matrix(y_test, y_pred)"
   ]
  },
  {
   "cell_type": "code",
   "execution_count": 46,
   "metadata": {},
   "outputs": [
    {
     "name": "stdout",
     "output_type": "stream",
     "text": [
      "              precision    recall  f1-score   support\n",
      "\n",
      "           0       0.35      0.41      0.38       384\n",
      "           1       0.36      0.54      0.43       375\n",
      "           2       0.44      0.29      0.35       396\n",
      "           3       0.38      0.40      0.39       371\n",
      "           4       0.41      0.21      0.28       429\n",
      "           5       0.41      0.39      0.40       393\n",
      "           6       0.40      0.39      0.39       367\n",
      "           7       0.36      0.46      0.40       353\n",
      "\n",
      "    accuracy                           0.38      3068\n",
      "   macro avg       0.39      0.39      0.38      3068\n",
      "weighted avg       0.39      0.38      0.38      3068\n",
      "\n"
     ]
    },
    {
     "data": {
      "image/png": "[encoded data removed]",
      "text/plain": [
       "<Figure size 504x504 with 1 Axes>"
      ]
     },
     "metadata": {
      "needs_background": "light"
     },
     "output_type": "display_data"
    }
   ],
   "source": [
    "mat = confusion_matrix(y_test, y_pred)\n",
    "plot_confusion_matrix(conf_mat=mat, class_names=label.classes_, show_normed=True, figsize=(7,7))\n",
    "\n",
    "print(classification_report(y_test, y_pred))"
   ]
  },
  {
   "cell_type": "markdown",
   "metadata": {},
   "source": [
    "### Adding confidence level to the predicted classes "
   ]
  },
  {
   "cell_type": "code",
   "execution_count": 47,
   "metadata": {},
   "outputs": [],
   "source": [
    "pred_conf = pd.DataFrame((model.predict(X_test) > 0.5).astype(\"int32\"))"
   ]
  },
  {
   "cell_type": "code",
   "execution_count": 48,
   "metadata": {},
   "outputs": [],
   "source": [
    "dictionary = {False: \"low\", True: \"high\"}\n",
    "pred_conf['pred_conf'] = pd.DataFrame(pred_conf.sum(axis=1) != 0).replace({0: dictionary})"
   ]
  },
  {
   "cell_type": "code",
   "execution_count": 49,
   "metadata": {},
   "outputs": [],
   "source": [
    "pred_conf = pd.DataFrame(pred_conf)"
   ]
  },
  {
   "cell_type": "code",
   "execution_count": 50,
   "metadata": {},
   "outputs": [],
   "source": [
    "dic_label = {0:'down',1:'down_left',2:'down_right',3:'left',4:'right',5:'up',6:'up_left',7:'up_right'}\n",
    "\n",
    "final_predictions = pd.DataFrame(y_pred).replace(dic_label)"
   ]
  },
  {
   "cell_type": "code",
   "execution_count": 51,
   "metadata": {},
   "outputs": [],
   "source": [
    "final_predictions = pd.concat([final_predictions, pred_conf],axis=1)"
   ]
  },
  {
   "cell_type": "code",
   "execution_count": 52,
   "metadata": {},
   "outputs": [],
   "source": [
    "final_predictions = final_predictions.iloc[:, [0,9]].rename({0:'orientation'},axis=1)"
   ]
  },
  {
   "cell_type": "code",
   "execution_count": null,
   "metadata": {},
   "outputs": [],
   "source": []
  },
  {
   "cell_type": "code",
   "execution_count": null,
   "metadata": {},
   "outputs": [],
   "source": []
  },
  {
   "cell_type": "code",
   "execution_count": null,
   "metadata": {},
   "outputs": [],
   "source": []
  },
  {
   "cell_type": "code",
   "execution_count": null,
   "metadata": {},
   "outputs": [],
   "source": []
  },
  {
   "cell_type": "code",
   "execution_count": null,
   "metadata": {},
   "outputs": [],
   "source": []
  }
 ],
 "metadata": {
  "kernelspec": {
   "display_name": "Python 3",
   "language": "python",
   "name": "python3"
  },
  "language_info": {
   "codemirror_mode": {
    "name": "ipython",
    "version": 3
   },
   "file_extension": ".py",
   "mimetype": "text/x-python",
   "name": "python",
   "nbconvert_exporter": "python",
   "pygments_lexer": "ipython3",
   "version": "3.8.5"
  }
 },
 "nbformat": 4,
 "nbformat_minor": 4
}
